{
 "cells": [
  {
   "cell_type": "markdown",
   "metadata": {},
   "source": [
    "# Memoized Fibonacci"
   ]
  },
  {
   "cell_type": "markdown",
   "metadata": {},
   "source": [
    "https://www.codewars.com/kata/memoized-fibonacci/train/python\n",
    "\n",
    "The Fibonacci sequence is traditionally used to explain tree recursion.\n",
    "\n",
    "```def fibonacci(n):\n",
    "    if n in [0, 1]:\n",
    "        return n\n",
    "    return fibonacci(n - 1) + fibonacci(n - 2)\n",
    "```\n",
    "\n",
    "This algorithm serves welll its educative purpose but it's tremendously inefficient, not only because of recursion, but because we invoke the fibonacci function twice, and the right branch of recursion (i.e. fibonacci(n-2)) recalculates all the Fibonacci numbers already calculated by the left branch (i.e. fibonacci(n-1)).\n",
    "\n",
    "This algorithm is so inefficient that the time to calculate any Fibonacci number over 50 is simply too much. You may go for a cup of coffee or go take a nap while you wait for the answer. But if you try it here in Code Wars you will most likely get a code timeout before any answers.\n",
    "\n",
    "For this particular Kata we want to implement the memoization solution. This will be cool because it will let us keep using the tree recursion algorithm while still keeping it sufficiently optimized to get an answer very rapidly.\n",
    "\n",
    "The trick of the memoized version is that we will keep a cache data structure (most likely an associative array) where we will store the Fibonacci numbers as we calculate them. When a Fibonacci number is calculated, we first look it up in the cache, if it's not there, we calculate it and put it in the cache, otherwise we returned the cached number.\n",
    "\n",
    "Refactor the function into a recursive Fibonacci function that using a memoized data structure avoids the deficiencies of tree recursion.\n",
    "\n",
    "Can you make it so the memoization cache is private to this function?"
   ]
  },
  {
   "cell_type": "markdown",
   "metadata": {},
   "source": [
    "### Benefit\n",
    "\n",
    "When you perform a fibonacci sum using recursion the time complexity is O(2^n).\n",
    "\n",
    "Memoization will allaw us to keep using the tree recursion algorithm while keeping it optimized to get the an answer very rapidly.\n",
    "\n",
    "Recursion is a convenient way to break down complex problems into smaller pieces. Here is an example of the fibonacci sum:"
   ]
  },
  {
   "cell_type": "code",
   "execution_count": 2,
   "metadata": {},
   "outputs": [],
   "source": [
    "# iterative\n",
    "# This has a time complexity O(n) because we are looping once.\n",
    "\n",
    "def fib_iterative(n):\n",
    "    # n is 0 or 1 it will return the provided value of n.\n",
    "    if n==0:\n",
    "        return 0\n",
    "    elif n==1:\n",
    "        return 1\n",
    "    \n",
    "    # when n is greater than 1 it will do some assignment to \n",
    "    # some temporary variables. This works for n=2. \n",
    "    elif n > 1:\n",
    "\n",
    "        fn1 = 1\n",
    "        fn2 = 0\n",
    "        \n",
    "        # Fixed this code...\n",
    "        for i in range(0, n):\n",
    "            fn = fn1 + fn2 \n",
    "            fn1 = fn2\n",
    "            fn2 = fn\n",
    "        return fn\n",
    "    \n",
    "# recursive\n",
    "# This has an exponential time complexity of O(2^n)\n",
    "def fib(n):\n",
    "    if n==0: return 0\n",
    "    if n==1: return 1\n",
    "    else: return fib(n-1) + fib(n-2)"
   ]
  },
  {
   "cell_type": "code",
   "execution_count": 3,
   "metadata": {},
   "outputs": [],
   "source": [
    "# This is another way to write the iterative approach. Here, we are using simultaneous assignment.\n",
    "# The way simultaneous assignment works is the right side is evaluated first. Then assignment occurs.\n",
    "\n",
    "def f(n):\n",
    "    a,b = 0,1\n",
    "    for i in range(0, n):\n",
    "        a,b = b, a+b\n",
    "    return a"
   ]
  },
  {
   "cell_type": "code",
   "execution_count": 126,
   "metadata": {},
   "outputs": [],
   "source": [
    "# This uses memoization. \n",
    "\n",
    "fibcache={0:0, 1:1}\n",
    "\n",
    "def fib(n):\n",
    "    # Check to see if the key exists in the dictionary.\n",
    "    if n in fibcache:\n",
    "        return fibcache[n]\n",
    "    \n",
    "    # Otherwise calculate fibonacci sequence. \n",
    "    fibcache[n] = fib(n-1) + fib(n-2)\n",
    "    return fibcache[n]"
   ]
  },
  {
   "cell_type": "code",
   "execution_count": 134,
   "metadata": {},
   "outputs": [
    {
     "data": {
      "text/plain": [
       "280571172992510140037611932413038677189525"
      ]
     },
     "execution_count": 134,
     "metadata": {},
     "output_type": "execute_result"
    }
   ],
   "source": [
    "def memoize(f):\n",
    "    memo = {}\n",
    "    def helper(x):\n",
    "        if x not in memo:\n",
    "            memo[x] = f(x)\n",
    "        return memo[x]\n",
    "    return helper\n",
    "\n",
    "def fib1(n):\n",
    "    if n==0:\n",
    "        return 0\n",
    "    if n==1:\n",
    "        return 1\n",
    "    else:\n",
    "        return fib(n-1) + fib(n-2)\n",
    "\n",
    "fib = memoize(fib)\n",
    "\n",
    "fib(200)"
   ]
  },
  {
   "cell_type": "code",
   "execution_count": 127,
   "metadata": {},
   "outputs": [
    {
     "data": {
      "text/plain": [
       "6765"
      ]
     },
     "execution_count": 127,
     "metadata": {},
     "output_type": "execute_result"
    }
   ],
   "source": [
    "fib(20)"
   ]
  },
  {
   "cell_type": "code",
   "execution_count": 128,
   "metadata": {},
   "outputs": [
    {
     "data": {
      "text/plain": [
       "{0: 0,\n",
       " 1: 1,\n",
       " 2: 1,\n",
       " 3: 2,\n",
       " 4: 3,\n",
       " 5: 5,\n",
       " 6: 8,\n",
       " 7: 13,\n",
       " 8: 21,\n",
       " 9: 34,\n",
       " 10: 55,\n",
       " 11: 89,\n",
       " 12: 144,\n",
       " 13: 233,\n",
       " 14: 377,\n",
       " 15: 610,\n",
       " 16: 987,\n",
       " 17: 1597,\n",
       " 18: 2584,\n",
       " 19: 4181,\n",
       " 20: 6765}"
      ]
     },
     "execution_count": 128,
     "metadata": {},
     "output_type": "execute_result"
    }
   ],
   "source": [
    "fibcache"
   ]
  },
  {
   "cell_type": "code",
   "execution_count": 106,
   "metadata": {},
   "outputs": [],
   "source": [
    "# This will store the Fibonacci numbers as we calculate them. \n",
    "fibcache={}\n",
    "\n",
    "def fib_memo(n):\n",
    "    if n in fibcache:\n",
    "        return fibcache[n]\n",
    "    else:\n",
    "        fibcache[n] = n if n < 2 else fib_memo(n-2) + fib_memo(n-1)\n",
    "        return fibcache[n]"
   ]
  },
  {
   "cell_type": "code",
   "execution_count": 129,
   "metadata": {},
   "outputs": [
    {
     "data": {
      "text/plain": [
       "6765"
      ]
     },
     "execution_count": 129,
     "metadata": {},
     "output_type": "execute_result"
    }
   ],
   "source": [
    "fib_memo(20)"
   ]
  },
  {
   "cell_type": "code",
   "execution_count": null,
   "metadata": {},
   "outputs": [],
   "source": []
  }
 ],
 "metadata": {
  "kernelspec": {
   "display_name": "Python 3",
   "language": "python",
   "name": "python3"
  },
  "language_info": {
   "codemirror_mode": {
    "name": "ipython",
    "version": 3
   },
   "file_extension": ".py",
   "mimetype": "text/x-python",
   "name": "python",
   "nbconvert_exporter": "python",
   "pygments_lexer": "ipython3",
   "version": "3.7.3"
  }
 },
 "nbformat": 4,
 "nbformat_minor": 2
}
