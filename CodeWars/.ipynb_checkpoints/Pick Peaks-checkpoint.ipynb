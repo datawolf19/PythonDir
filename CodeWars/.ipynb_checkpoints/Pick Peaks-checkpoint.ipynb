{
 "cells": [
  {
   "cell_type": "code",
   "execution_count": 484,
   "metadata": {},
   "outputs": [],
   "source": [
    "def pick_peaks(arr):\n",
    "    \n",
    "    data={\n",
    "          'pos':[], \n",
    "          'peaks':[]\n",
    "         }\n",
    "\n",
    "    plat=[]\n",
    "    pos = 0\n",
    "\n",
    "    for i in range(1, len(arr[1:]) ):\n",
    "        \n",
    "        curr, prev, nxt = arr[i], arr[i-1], arr[i+1]\n",
    "        \n",
    "        # Adds the normal peaks.\n",
    "        if curr > prev and curr > nxt:\n",
    "            data['pos'].append(i)\n",
    "            data['peaks'].append(curr)\n",
    "        \n",
    "        # Looks for plateaus\n",
    "        if curr == nxt and not pos:     \n",
    "            pos=i\n",
    "            plat.append(i)\n",
    "        \n",
    "        # \n",
    "        elif arr[pos]==curr:\n",
    "            plat.append(i)\n",
    "\n",
    "        \n",
    "        # \n",
    "        elif plat and arr[pos]!=curr:\n",
    "\n",
    "            if len(plat)>=2 and arr[plat[0]]>arr[pos-1] and arr[plat[0]]>arr[plat[-1]+1]:\n",
    "                data['pos'].append(plat[0])\n",
    "                data['peaks'].append(arr[plat[0]])\n",
    "            print(plat)\n",
    "            plat=[]\n",
    "            pos=0\n",
    "\n",
    "    # This checks for the last values...\n",
    "    if len(plat)>=2 and arr[plat[-1]]>arr[-1]:\n",
    "        data['pos'].append(plat[0])\n",
    "        data['peaks'].append(arr[plat[0]])\n",
    "\n",
    "    return data"
   ]
  },
  {
   "cell_type": "markdown",
   "metadata": {},
   "source": [
    "https://www.codewars.com/kata/5279f6fe5ab7f447890006a7/train/python?"
   ]
  },
  {
   "cell_type": "code",
   "execution_count": 485,
   "metadata": {},
   "outputs": [
    {
     "name": "stdout",
     "output_type": "stream",
     "text": [
      "[10, 11]\n",
      "[14]\n",
      "[17, 18]\n"
     ]
    },
    {
     "data": {
      "text/plain": [
       "{'pos': [3, 9, 13, 15, 22, 24, 26], 'peaks': [20, 18, 18, 20, 11, 19, 20]}"
      ]
     },
     "execution_count": 485,
     "metadata": {},
     "output_type": "execute_result"
    }
   ],
   "source": [
    "pick_peaks([7, -1, 12, 20, 16,\n",
    "            3, -2, 6, 11, 18, \n",
    "            6, 6, 7, 18, 7, \n",
    "            20, 15, 1, 1, 10, \n",
    "            10, -3, 11, 10, 19, \n",
    "            2, 20, 14, 10])"
   ]
  },
  {
   "cell_type": "code",
   "execution_count": 456,
   "metadata": {},
   "outputs": [
    {
     "name": "stdout",
     "output_type": "stream",
     "text": [
      "[]\n"
     ]
    },
    {
     "data": {
      "text/plain": [
       "{'pos': [3], 'peaks': [19]}"
      ]
     },
     "execution_count": 456,
     "metadata": {},
     "output_type": "execute_result"
    }
   ],
   "source": [
    "pick_peaks([-5, 17, 17, 19, 5, 13, 15])"
   ]
  },
  {
   "cell_type": "code",
   "execution_count": 447,
   "metadata": {},
   "outputs": [
    {
     "data": {
      "text/plain": [
       "{'pos': [2, 6], 'peaks': [18, 8]}"
      ]
     },
     "execution_count": 447,
     "metadata": {},
     "output_type": "execute_result"
    }
   ],
   "source": [
    "pick_peaks([-1, 6, 18, 14, 1, 1, 8, -4, 5, 10])"
   ]
  },
  {
   "cell_type": "code",
   "execution_count": 448,
   "metadata": {},
   "outputs": [
    {
     "data": {
      "text/plain": [
       "{'pos': [1, 3], 'peaks': [18, 20]}"
      ]
     },
     "execution_count": 448,
     "metadata": {},
     "output_type": "execute_result"
    }
   ],
   "source": [
    "pick_peaks([6, 18, 8, 20, 20, 11])"
   ]
  },
  {
   "cell_type": "code",
   "execution_count": 449,
   "metadata": {},
   "outputs": [
    {
     "data": {
      "text/plain": [
       "{'pos': [3, 7, 10], 'peaks': [6, 3, 2]}"
      ]
     },
     "execution_count": 449,
     "metadata": {},
     "output_type": "execute_result"
    }
   ],
   "source": [
    "pick_peaks([3,2,3,6,4,1,2,3,2,1,2,2,2,1])"
   ]
  },
  {
   "cell_type": "code",
   "execution_count": 377,
   "metadata": {},
   "outputs": [
    {
     "name": "stdout",
     "output_type": "stream",
     "text": [
      "1 2 3\n",
      "2 3 6\n",
      "3 6 4\n",
      "6 4 1\n",
      "4 1 2\n",
      "1 2 3\n",
      "2 3 2\n"
     ]
    },
    {
     "data": {
      "text/plain": [
       "{'pos': [3, 7], 'peaks': [6, 3]}"
      ]
     },
     "execution_count": 377,
     "metadata": {},
     "output_type": "execute_result"
    }
   ],
   "source": [
    "pick_peaks([1,2,3,6,4,1,2,3,2,1])"
   ]
  },
  {
   "cell_type": "code",
   "execution_count": 369,
   "metadata": {},
   "outputs": [
    {
     "name": "stdout",
     "output_type": "stream",
     "text": [
      "2 1 3\n",
      "1 3 1\n",
      "3 1 2\n",
      "1 2 2\n",
      "2 2 2\n",
      "2 2 2\n",
      "2 2 1\n"
     ]
    },
    {
     "data": {
      "text/plain": [
       "{'pos': [2, 4], 'peaks': [3, 2]}"
      ]
     },
     "execution_count": 369,
     "metadata": {},
     "output_type": "execute_result"
    }
   ],
   "source": [
    "pick_peaks([2,1,3,1,2,2,2,2,1])"
   ]
  },
  {
   "cell_type": "code",
   "execution_count": 152,
   "metadata": {},
   "outputs": [],
   "source": [
    "x = [1,2,1,2,1,2,3,3,3,4,42, 3,6]\n",
    "\n",
    "plat = []\n",
    "pos=0\n",
    "\n",
    "for i in range(len(x[1:-1])):\n",
    "    if not pos:\n",
    "        if x[i] == x[i+1]:        \n",
    "            plat.append(i)\n",
    "            pos=i\n",
    "            continue\n",
    "            \n",
    "    elif x[pos]==x[i]:\n",
    "        plat.append(i)\n",
    "    \n",
    "    else:\n",
    "        pos=0\n",
    "    "
   ]
  },
  {
   "cell_type": "code",
   "execution_count": 153,
   "metadata": {},
   "outputs": [
    {
     "data": {
      "text/plain": [
       "[6, 7, 8]"
      ]
     },
     "execution_count": 153,
     "metadata": {},
     "output_type": "execute_result"
    }
   ],
   "source": [
    "plat"
   ]
  },
  {
   "cell_type": "code",
   "execution_count": null,
   "metadata": {},
   "outputs": [],
   "source": []
  }
 ],
 "metadata": {
  "kernelspec": {
   "display_name": "Python 3",
   "language": "python",
   "name": "python3"
  },
  "language_info": {
   "codemirror_mode": {
    "name": "ipython",
    "version": 3
   },
   "file_extension": ".py",
   "mimetype": "text/x-python",
   "name": "python",
   "nbconvert_exporter": "python",
   "pygments_lexer": "ipython3",
   "version": "3.7.3"
  }
 },
 "nbformat": 4,
 "nbformat_minor": 2
}
