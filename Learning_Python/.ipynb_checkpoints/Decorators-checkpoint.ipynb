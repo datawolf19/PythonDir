{
 "cells": [
  {
   "cell_type": "markdown",
   "metadata": {},
   "source": [
    "https://www.geeksforgeeks.org/decorators-in-python/"
   ]
  },
  {
   "cell_type": "markdown",
   "metadata": {},
   "source": [
    "### Decorators\n",
    "\n",
    "Decorators take a function as input and return a function. Decorators\n",
    "are first class objects: 1) Referenced, 2) passed to variables, and \n",
    "returned from functions.\n",
    "\n",
    "Decorators allow us to modify a functions behavior or class. We can \n",
    "use a decorator to wrap another function to extend behavior of the \n",
    "wrapped function. \n",
    "\n",
    "In other words, decorators take functions as an argument of another \n",
    "function. Then the function is called inside a wrapper function. Here,\n",
    "the memoized function takes f, or the fibonacci function, as an \n",
    "argument. The memoized function creates a dictionary to hold the values\n",
    "of the fibonacci function but noticed that the fibonacci function has \n",
    "not yet been called by memoized. That is because that is not the purpose\n",
    "of the memoized functino but the wrapped function. Memoized is only \n",
    "intended to take fibonacci as an input. Wrapped will call the fibonacci\n",
    "function. \n",
    "\n",
    "Here, memoized is going to extend the behavior of the fibonacci \n",
    "function. The behavior will be caching and looking up values for\n",
    "keys in a dictionary. Wrapped will call the fibonacci function and \n",
    "the value will be stored in the dictionary (cache). The memoized \n",
    "function will then return the wrapped function that calls the \n",
    "fibonacci function. \n",
    "\n",
    "\n",
    "Here f is the input function."
   ]
  },
  {
   "cell_type": "code",
   "execution_count": null,
   "metadata": {},
   "outputs": [],
   "source": [
    "def memoized(f): ### Step 1: Take fibonacci as an input...\n",
    "    # Temporary cache to store n and its result.\n",
    "    cache = {}\n",
    "    \n",
    "    # Inner function that takes k as input. \n",
    "    # What is k?\n",
    "    def wrapped(k): ### Step 2: Define the wrapper.\n",
    "        \n",
    "        v = cache.get(k) # returns None when no value for that key in cache.\n",
    "        \n",
    "        if v is None:\n",
    "            v = cache[k] = f(k)  \n",
    "        return v\n",
    "    \n",
    "    return wrapped\n",
    "\n",
    "@memoized\n",
    "def fibonacci(n):\n",
    "    if n in [0,1]:\n",
    "        return n\n",
    "    return fibonacci(n-1) + fibonacci(n-2)"
   ]
  },
  {
   "cell_type": "code",
   "execution_count": 2,
   "metadata": {},
   "outputs": [
    {
     "name": "stdout",
     "output_type": "stream",
     "text": [
      "3628800\n",
      "Total time taken in :  factorial 2.0046701431274414\n"
     ]
    }
   ],
   "source": [
    "import time\n",
    "import math\n",
    "\n",
    "def calculate_time(func):\n",
    "    \n",
    "    \n",
    "    def inner1(*args, **kwargs):\n",
    "        \n",
    "        begin = time.time()\n",
    "        \n",
    "        func(*args, **kwargs)\n",
    "        \n",
    "        end = time.time()\n",
    "        \n",
    "        print(\"Total time taken in : \", func.__name__, end-begin)\n",
    "    return inner1\n",
    "\n",
    "@calculate_time\n",
    "def factorial(num):\n",
    "    time.sleep(2)\n",
    "    print(math.factorial(num))\n",
    "    \n",
    "factorial(10)"
   ]
  },
  {
   "cell_type": "code",
   "execution_count": 7,
   "metadata": {},
   "outputs": [
    {
     "name": "stdout",
     "output_type": "stream",
     "text": [
      "Before Execution\n",
      "Inside the function\n",
      "After Execution\n",
      "Sum  3\n"
     ]
    }
   ],
   "source": [
    "def hello_decorator(func):\n",
    "    def inner1(*args, **kwargs):\n",
    "        print(\"Before Execution\")\n",
    "        \n",
    "        returned_value = func(*args, **kwargs)\n",
    "        \n",
    "        print(\"After Execution\")\n",
    "        \n",
    "        return returned_value\n",
    "\n",
    "    return inner1\n",
    "\n",
    "@hello_decorator\n",
    "def sum_two_numbers(a, b):\n",
    "    print(\"Inside the function\")\n",
    "    return a + b\n",
    "\n",
    "a,b = 1,2\n",
    "print(\"Sum \", sum_two_numbers(a,b))"
   ]
  },
  {
   "cell_type": "markdown",
   "metadata": {},
   "source": [
    "Decorators provide a simple syntax for calling higher-order functions. A higher order function (1) takes one or more functions as arguments or (2) returns a function as its result.\n",
    "\n",
    "A decorator is _a function_ that takes _another function_ and extends the behavior of the _latter function_ without explicitly modifying it.\n",
    "\n",
    "In Python, functions are first-class objects. This means you can assign them to variables, store them in data structures, pass them as arguments to other functions and have them returned as values from other functions.\n",
    "\n",
    "This link is important in understanding how __lexical closure__ work with inner functions. Since decorators leverage inner functions it is important to understand how data from arguments is passed to nested functions. \n",
    "\n",
    "Understanding functions is important to understanding decorators:\n",
    "\n",
    "https://dbader.org/blog/python-first-class-functions \n",
    "\n",
    "Read this after the above link:\n",
    "\n",
    "https://en.wikipedia.org/wiki/Closure_(computer_programming)"
   ]
  },
  {
   "cell_type": "markdown",
   "metadata": {},
   "source": [
    "Closure, aka _lexical closure_ or _function closure_, is a technique for implementing _lexically scoped named binding_ in a language with _first-class functions_ (_see above definition_).\n",
    "\n",
    "https://en.wikipedia.org/wiki/Closure_(computer_programming)\n",
    "\n",
    "A closure is a record storing a function with its environment. The environment maps each _free variable_ of a function with the value, aka _reference_, to which the name was bound when the closure was created. These variables are used locally but are defined in the enclosing scope. Unlike a function, a closure allows the function to access these _captured variables_ through the closure's copies of their values or references, __even when the function is invoked outside their scope.__\n",
    "\n",
    "A closure is an instance of a function, a value, whose non-local variables have been bound either to values. See the next cell for an example of Python code:"
   ]
  },
  {
   "cell_type": "code",
   "execution_count": 16,
   "metadata": {},
   "outputs": [],
   "source": [
    "def f(x):\n",
    "    def g(y):\n",
    "        return x + y\n",
    "    return g\n",
    "\n",
    "def h(x):\n",
    "    return lambda y: x + y\n",
    "\n",
    "# Assigning specific closures to variables\n",
    "a = f(1)\n",
    "b = h(1)\n",
    "\n",
    "# Using the closures stored in variables\n",
    "assert a(5) == 6\n",
    "assert b(5) == 6\n",
    "\n",
    "# Using closures without binding them to variables first.\n",
    "\n",
    "assert f(1)(5) == 6 # f(1) is the closure.\n",
    "assert h(1)(5) == 6 # h(1) is the closure.\n"
   ]
  },
  {
   "cell_type": "code",
   "execution_count": 22,
   "metadata": {},
   "outputs": [
    {
     "data": {
      "text/plain": [
       "'g'"
      ]
     },
     "execution_count": 22,
     "metadata": {},
     "output_type": "execute_result"
    }
   ],
   "source": [
    "f(1).__name__"
   ]
  },
  {
   "cell_type": "code",
   "execution_count": 23,
   "metadata": {},
   "outputs": [
    {
     "data": {
      "text/plain": [
       "'<lambda>'"
      ]
     },
     "execution_count": 23,
     "metadata": {},
     "output_type": "execute_result"
    }
   ],
   "source": [
    "h(1).__name__"
   ]
  },
  {
   "cell_type": "code",
   "execution_count": 28,
   "metadata": {},
   "outputs": [
    {
     "data": {
      "text/plain": [
       "['__annotations__',\n",
       " '__call__',\n",
       " '__class__',\n",
       " '__closure__',\n",
       " '__code__',\n",
       " '__defaults__',\n",
       " '__delattr__',\n",
       " '__dict__',\n",
       " '__dir__',\n",
       " '__doc__',\n",
       " '__eq__',\n",
       " '__format__',\n",
       " '__ge__',\n",
       " '__get__',\n",
       " '__getattribute__',\n",
       " '__globals__',\n",
       " '__gt__',\n",
       " '__hash__',\n",
       " '__init__',\n",
       " '__init_subclass__',\n",
       " '__kwdefaults__',\n",
       " '__le__',\n",
       " '__lt__',\n",
       " '__module__',\n",
       " '__name__',\n",
       " '__ne__',\n",
       " '__new__',\n",
       " '__qualname__',\n",
       " '__reduce__',\n",
       " '__reduce_ex__',\n",
       " '__repr__',\n",
       " '__setattr__',\n",
       " '__sizeof__',\n",
       " '__str__',\n",
       " '__subclasshook__']"
      ]
     },
     "execution_count": 28,
     "metadata": {},
     "output_type": "execute_result"
    }
   ],
   "source": [
    "dir(f(1))"
   ]
  },
  {
   "cell_type": "code",
   "execution_count": 38,
   "metadata": {},
   "outputs": [
    {
     "data": {
      "text/plain": [
       "3"
      ]
     },
     "execution_count": 38,
     "metadata": {},
     "output_type": "execute_result"
    }
   ],
   "source": [
    "f(1).__call__(2)"
   ]
  },
  {
   "cell_type": "code",
   "execution_count": 39,
   "metadata": {},
   "outputs": [
    {
     "data": {
      "text/plain": [
       "(<cell at 0x7fe30c7412b8: int object at 0x558cfe1e7420>,)"
      ]
     },
     "execution_count": 39,
     "metadata": {},
     "output_type": "execute_result"
    }
   ],
   "source": [
    "f(1).__closure__"
   ]
  },
  {
   "cell_type": "code",
   "execution_count": 8,
   "metadata": {},
   "outputs": [],
   "source": [
    "def make_adder(n):\n",
    "    def add(x):\n",
    "        return x + n\n",
    "    return add"
   ]
  },
  {
   "cell_type": "code",
   "execution_count": 14,
   "metadata": {},
   "outputs": [
    {
     "data": {
      "text/plain": [
       "<function __main__.make_adder.<locals>.add(x)>"
      ]
     },
     "execution_count": 14,
     "metadata": {},
     "output_type": "execute_result"
    }
   ],
   "source": [
    "make_adder(3)"
   ]
  },
  {
   "cell_type": "code",
   "execution_count": null,
   "metadata": {},
   "outputs": [],
   "source": []
  }
 ],
 "metadata": {
  "kernelspec": {
   "display_name": "Python 3",
   "language": "python",
   "name": "python3"
  },
  "language_info": {
   "codemirror_mode": {
    "name": "ipython",
    "version": 3
   },
   "file_extension": ".py",
   "mimetype": "text/x-python",
   "name": "python",
   "nbconvert_exporter": "python",
   "pygments_lexer": "ipython3",
   "version": "3.7.3"
  }
 },
 "nbformat": 4,
 "nbformat_minor": 2
}
