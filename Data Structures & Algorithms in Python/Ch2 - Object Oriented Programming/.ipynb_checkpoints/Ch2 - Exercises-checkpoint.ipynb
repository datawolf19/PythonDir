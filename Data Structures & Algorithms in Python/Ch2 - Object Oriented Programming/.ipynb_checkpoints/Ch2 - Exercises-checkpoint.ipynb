{
 "cells": [
  {
   "cell_type": "code",
   "execution_count": 23,
   "metadata": {},
   "outputs": [],
   "source": [
    "class Flower:\n",
    "    \n",
    "    def __init__(self, name, petals, price):        \n",
    "        self._name = name\n",
    "        self._petals = petals\n",
    "        self._price = float(price)\n",
    "        \n",
    "        assert isinstance(self._name, str), \"name must be a str.\"\n",
    "        assert isinstance(self._petals, int), \"petals must be an int.\"\n",
    "        assert isinstance(self._price, float), \"price must be a float.\"\n",
    "        \n",
    "    def get_name(self):\n",
    "        return self._name\n",
    "    \n",
    "    def get_petal_count(self):\n",
    "        return self._petals\n",
    "    \n",
    "    def get_price(self):\n",
    "        return self._price\n",
    "    \n",
    "    def set_name(self, name):\n",
    "        self._name = name\n",
    "        \n",
    "    def set_petal_count(self, count):\n",
    "        self._petals = count\n",
    "        \n",
    "    def set_price(self, price):\n",
    "        self._price = float(price)\n",
    "        "
   ]
  },
  {
   "cell_type": "code",
   "execution_count": 24,
   "metadata": {},
   "outputs": [],
   "source": [
    "rose = Flower('Red Rose', 15, 20)"
   ]
  },
  {
   "cell_type": "code",
   "execution_count": null,
   "metadata": {},
   "outputs": [],
   "source": []
  }
 ],
 "metadata": {
  "kernelspec": {
   "display_name": "Python 3",
   "language": "python",
   "name": "python3"
  },
  "language_info": {
   "codemirror_mode": {
    "name": "ipython",
    "version": 3
   },
   "file_extension": ".py",
   "mimetype": "text/x-python",
   "name": "python",
   "nbconvert_exporter": "python",
   "pygments_lexer": "ipython3",
   "version": "3.7.3"
  }
 },
 "nbformat": 4,
 "nbformat_minor": 2
}
