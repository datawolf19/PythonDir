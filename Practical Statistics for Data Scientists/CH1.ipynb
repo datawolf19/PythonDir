{
 "cells": [
  {
   "cell_type": "code",
   "execution_count": 207,
   "metadata": {},
   "outputs": [],
   "source": [
    "import pandas as pd\n",
    "import numpy as np\n",
    "from scipy.stats import trim_mean, kurtosis\n",
    "from scipy.stats.mstats import mode, gmean, hmean\n",
    "\n",
    "import os\n",
    "\n",
    "from pydrive.drive import GoogleDrive\n",
    "from pydrive.auth import GoogleAuth\n",
    "from oauth2client.client import GoogleCredentials"
   ]
  },
  {
   "cell_type": "code",
   "execution_count": 192,
   "metadata": {},
   "outputs": [],
   "source": [
    "# Link of shared files... you care about the shared folder here.\n",
    "url = 'https://drive.google.com/drive/folders/0B98qpkK5EJemYnJ1ajA1ZVJwMzg'\n",
    "shared_folder = url.split('/')[-1]"
   ]
  },
  {
   "cell_type": "code",
   "execution_count": 194,
   "metadata": {},
   "outputs": [],
   "source": [
    "# Here you are using the credentials secret json file to load the config setting to access \n",
    "# the Google Drive API.\n",
    "\n",
    "creds = os.path.expanduser('~') + '/client_secret_574391720429-dpb8gk5gq13h87juvedat4muf2pesagj.apps.googleusercontent.com.json'"
   ]
  },
  {
   "cell_type": "code",
   "execution_count": 197,
   "metadata": {},
   "outputs": [],
   "source": [
    "# Creating an instance of Google Authentication\n",
    "gauth = GoogleAuth()"
   ]
  },
  {
   "cell_type": "code",
   "execution_count": 198,
   "metadata": {},
   "outputs": [],
   "source": [
    "# Loading credentials file from local json.\n",
    "\n",
    "gauth.LoadClientConfigFile(creds)"
   ]
  },
  {
   "cell_type": "code",
   "execution_count": 199,
   "metadata": {},
   "outputs": [],
   "source": [
    "# Logging into Drive\n",
    "\n",
    "drive = GoogleDrive(gauth)"
   ]
  },
  {
   "cell_type": "code",
   "execution_count": 200,
   "metadata": {},
   "outputs": [
    {
     "name": "stdout",
     "output_type": "stream",
     "text": [
      "Your browser has been opened to visit:\n",
      "\n",
      "    https://accounts.google.com/o/oauth2/auth?client_id=574391720429-dpb8gk5gq13h87juvedat4muf2pesagj.apps.googleusercontent.com&redirect_uri=http%3A%2F%2Flocalhost%3A8080%2F&scope=https%3A%2F%2Fwww.googleapis.com%2Fauth%2Fdrive&access_type=offline&response_type=code\n",
      "\n",
      "Authentication successful.\n"
     ]
    }
   ],
   "source": [
    "# Asks you to sign in to verify. \n",
    "\n",
    "files = drive.ListFile({'q':f\"'{shared_folder}' in parents and trashed=false\"}).GetList()"
   ]
  },
  {
   "cell_type": "code",
   "execution_count": 201,
   "metadata": {},
   "outputs": [],
   "source": [
    "data_files = {file['title']:file['id'] for file in files}"
   ]
  },
  {
   "cell_type": "code",
   "execution_count": 202,
   "metadata": {},
   "outputs": [
    {
     "data": {
      "text/plain": [
       "{'full_train_set.csv': '1J96vAqyh92VIeh7kBFm1NBfZcvx8wp2s',\n",
       " 'lc_loans.csv': '0B98qpkK5EJemRXpfa2lONlFRSms',\n",
       " 'house_sales.csv': '0B98qpkK5EJemVTRRN0dLakxwTmM',\n",
       " 'airline_stats.csv': '0B98qpkK5EJemMzZYZHZJaF9va0U',\n",
       " 'loan_data.csv': '0B98qpkK5EJemZzdoQ2I3SWlBYzg',\n",
       " 'loan3000.csv': '0B98qpkK5EJemQXYtYmJUVkdsN1U',\n",
       " 'loan200.csv': '0B98qpkK5EJemd0JnQUtjb051dTA',\n",
       " 'County_Zhvi_AllHomes.csv': '0B98qpkK5EJemWGRWOEhYN1RabVk',\n",
       " 'LungDisease.csv': '0B98qpkK5EJemb25YYUFJZnZVSnM',\n",
       " 'imanishi_data.csv': '0B98qpkK5EJemZTJnUDd5Ri1vRDA',\n",
       " 'click_rates.csv': '0B98qpkK5EJemVHB0ZzdtUG9SeTg',\n",
       " 'four_sessions.csv': '0B98qpkK5EJemOFdZM1JsaEF0Mnc',\n",
       " 'web_page_data.csv': '0B98qpkK5EJemOC0xMHBTTEowYzg',\n",
       " 'loans_income.csv': '0B98qpkK5EJemRXVld0NSbWhYNVU',\n",
       " 'state.csv': '0B98qpkK5EJembFc5RmVKVVJPdGc',\n",
       " 'kc_tax.csv': '0B98qpkK5EJemck5VWkszN3F3RGM',\n",
       " 'dfw_airline.csv': '0B98qpkK5EJemcmZYX2VhMHBXelE',\n",
       " 'sp500_data.csv': '0B98qpkK5EJemV2htZWdhVFRMNlU',\n",
       " 'loanStats.csv': '0B98qpkK5EJemYlI2V2MxZGhXcGc',\n",
       " 'sp500_sectors.csv': '0B98qpkK5EJemY0U0N1N6a21lUzA',\n",
       " '762609057_112015_3429_airline_delay_causes.csv': '0B98qpkK5EJemc3YzUTBoelpjaUU'}"
      ]
     },
     "execution_count": 202,
     "metadata": {},
     "output_type": "execute_result"
    }
   ],
   "source": [
    "data_files"
   ]
  },
  {
   "cell_type": "code",
   "execution_count": 203,
   "metadata": {},
   "outputs": [],
   "source": [
    "def download_drive_file(filename, directory):\n",
    "    \"\"\"\n",
    "    Downloads a file locally to the current working\n",
    "    directory from a Google Drive folder and returns \n",
    "    a string of the filename.     \n",
    "    \n",
    "    Args:\n",
    "    \n",
    "    filename:   The name of the file you want to download \n",
    "                from the Google Drive directory.\n",
    "    \n",
    "    directory:  The directory that contains the file you \n",
    "                want to download.\n",
    "    \"\"\"\n",
    "    \n",
    "    for file in directory:\n",
    "        if filename == file['title']:\n",
    "            # Downloads the content locally.\n",
    "            file.GetContentFile(filename)    \n",
    "            print(f'{filename} downloaded.')\n",
    "            return filename\n",
    "            \n",
    "    return f'File {filename} not found.'"
   ]
  },
  {
   "cell_type": "code",
   "execution_count": 204,
   "metadata": {},
   "outputs": [
    {
     "name": "stdout",
     "output_type": "stream",
     "text": [
      "state.csv downloaded.\n"
     ]
    }
   ],
   "source": [
    "# Running the function inside a pd dataframe.\n",
    "df = pd.read_csv(download_drive_file('state.csv', files))"
   ]
  },
  {
   "cell_type": "code",
   "execution_count": 242,
   "metadata": {},
   "outputs": [
    {
     "data": {
      "text/plain": [
       "6162876.3"
      ]
     },
     "execution_count": 242,
     "metadata": {},
     "output_type": "execute_result"
    }
   ],
   "source": [
    "df.Population.agg(np.mean)"
   ]
  },
  {
   "cell_type": "code",
   "execution_count": 240,
   "metadata": {},
   "outputs": [
    {
     "data": {
      "text/plain": [
       "4783697.125"
      ]
     },
     "execution_count": 240,
     "metadata": {},
     "output_type": "execute_result"
    }
   ],
   "source": [
    "trim_mean(df.Population, proportiontocut=0.1)"
   ]
  },
  {
   "cell_type": "code",
   "execution_count": 243,
   "metadata": {},
   "outputs": [
    {
     "data": {
      "text/plain": [
       "4436369.5"
      ]
     },
     "execution_count": 243,
     "metadata": {},
     "output_type": "execute_result"
    }
   ],
   "source": [
    "df.Population.agg(np.median)"
   ]
  },
  {
   "cell_type": "code",
   "execution_count": 244,
   "metadata": {},
   "outputs": [],
   "source": [
    "def weighted_mean(mean, weight):\n",
    "    tot_w = weight.agg(np.sum)\n",
    "    return np.sum(mean * weight) / tot_w\n",
    "    "
   ]
  },
  {
   "cell_type": "code",
   "execution_count": 245,
   "metadata": {},
   "outputs": [
    {
     "data": {
      "text/plain": [
       "4.445833981123393"
      ]
     },
     "execution_count": 245,
     "metadata": {},
     "output_type": "execute_result"
    }
   ],
   "source": [
    "weighted_mean(df['Murder.Rate'], df['Population'])"
   ]
  },
  {
   "cell_type": "code",
   "execution_count": 384,
   "metadata": {},
   "outputs": [
    {
     "data": {
      "text/plain": [
       "State           Missouri\n",
       "Population       5988927\n",
       "Murder.Rate          6.6\n",
       "Abbreviation          MO\n",
       "Name: 24, dtype: object"
      ]
     },
     "execution_count": 384,
     "metadata": {},
     "output_type": "execute_result"
    }
   ],
   "source": [
    "df.iloc[int(np.median(list(df.index)))]"
   ]
  },
  {
   "cell_type": "code",
   "execution_count": 439,
   "metadata": {},
   "outputs": [],
   "source": [
    "def weighted_median(median, weight):\n",
    "    tot_w = weight.agg(np.sum)\n",
    "    dft = pd.DataFrame({median.name:median, weight.name:weight/tot_w}).sort_values(by=median.name).reset_index(drop=True)\n",
    "    dft['cumsum'] = dft[weight.name].cumsum()\n",
    "        \n",
    "    return dft.loc[(dft['cumsum']<=.5)].iloc[-1,0]\n",
    "    \n"
   ]
  },
  {
   "cell_type": "code",
   "execution_count": null,
   "metadata": {},
   "outputs": [],
   "source": []
  },
  {
   "cell_type": "code",
   "execution_count": 440,
   "metadata": {},
   "outputs": [
    {
     "data": {
      "text/plain": [
       "4.4"
      ]
     },
     "execution_count": 440,
     "metadata": {},
     "output_type": "execute_result"
    }
   ],
   "source": [
    "weighted_median(df['Murder.Rate'], df['Population'])"
   ]
  },
  {
   "cell_type": "code",
   "execution_count": null,
   "metadata": {},
   "outputs": [],
   "source": []
  }
 ],
 "metadata": {
  "kernelspec": {
   "display_name": "Python 3",
   "language": "python",
   "name": "python3"
  },
  "language_info": {
   "codemirror_mode": {
    "name": "ipython",
    "version": 3
   },
   "file_extension": ".py",
   "mimetype": "text/x-python",
   "name": "python",
   "nbconvert_exporter": "python",
   "pygments_lexer": "ipython3",
   "version": "3.7.3"
  }
 },
 "nbformat": 4,
 "nbformat_minor": 2
}
