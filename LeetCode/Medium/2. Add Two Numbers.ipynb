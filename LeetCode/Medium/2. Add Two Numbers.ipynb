{
 "cells": [
  {
   "cell_type": "markdown",
   "metadata": {},
   "source": [
    "# Problem"
   ]
  },
  {
   "cell_type": "markdown",
   "metadata": {},
   "source": [
    "https://leetcode.com/problems/add-two-numbers/"
   ]
  },
  {
   "cell_type": "markdown",
   "metadata": {},
   "source": [
    "You are given two non-empty linked lists representing two non-negative integers. The digits are stored in reverse order and each of their nodes contain a single digit. Add the two numbers and return it as a linked list.\n",
    "\n",
    "You may assume the two numbers do not contain any leading zero, except the number 0 itself.\n",
    "\n",
    "Example:\n",
    "```\n",
    "Input: (2 -> 4 -> 3) + (5 -> 6 -> 4)\n",
    "Output: 7 -> 0 -> 8\n",
    "Explanation: 342 + 465 = 807.\n",
    "```"
   ]
  },
  {
   "cell_type": "code",
   "execution_count": 37,
   "metadata": {},
   "outputs": [],
   "source": [
    "class ListNode:\n",
    "    def __init__(self, x):\n",
    "        self.val = x\n",
    "        self.next = None"
   ]
  },
  {
   "cell_type": "code",
   "execution_count": 47,
   "metadata": {},
   "outputs": [],
   "source": [
    "class Solution:\n",
    "    def addTwoNumbers(self, l1: ListNode, l2: ListNode) -> ListNode:\n",
    "        node_1 = l1\n",
    "        node_2 = l2\n",
    "        new_node = ListNode(None)\n",
    "        \n",
    "        while node_1 or node_2:\n",
    "            new_node.val = node_1.val + node_2.val\n",
    "            new_node.next = ListNode(None)\n",
    "        \n",
    "        return new_node"
   ]
  },
  {
   "cell_type": "code",
   "execution_count": 277,
   "metadata": {},
   "outputs": [],
   "source": [
    "def func_listnode(x):\n",
    "    return ListNode(x)"
   ]
  },
  {
   "cell_type": "code",
   "execution_count": 285,
   "metadata": {},
   "outputs": [],
   "source": [
    "x,y,z = map(lambda x: ListNode(x), range(3))"
   ]
  },
  {
   "cell_type": "code",
   "execution_count": null,
   "metadata": {},
   "outputs": [],
   "source": []
  },
  {
   "cell_type": "code",
   "execution_count": null,
   "metadata": {},
   "outputs": [],
   "source": []
  },
  {
   "cell_type": "code",
   "execution_count": null,
   "metadata": {},
   "outputs": [],
   "source": []
  },
  {
   "cell_type": "code",
   "execution_count": null,
   "metadata": {},
   "outputs": [],
   "source": []
  },
  {
   "cell_type": "code",
   "execution_count": null,
   "metadata": {},
   "outputs": [],
   "source": []
  },
  {
   "cell_type": "code",
   "execution_count": null,
   "metadata": {},
   "outputs": [],
   "source": []
  },
  {
   "cell_type": "code",
   "execution_count": null,
   "metadata": {},
   "outputs": [],
   "source": []
  },
  {
   "cell_type": "code",
   "execution_count": null,
   "metadata": {},
   "outputs": [],
   "source": []
  },
  {
   "cell_type": "code",
   "execution_count": null,
   "metadata": {},
   "outputs": [],
   "source": []
  },
  {
   "cell_type": "code",
   "execution_count": null,
   "metadata": {},
   "outputs": [],
   "source": []
  },
  {
   "cell_type": "code",
   "execution_count": null,
   "metadata": {},
   "outputs": [],
   "source": []
  },
  {
   "cell_type": "code",
   "execution_count": null,
   "metadata": {},
   "outputs": [],
   "source": []
  },
  {
   "cell_type": "code",
   "execution_count": null,
   "metadata": {},
   "outputs": [],
   "source": []
  },
  {
   "cell_type": "code",
   "execution_count": null,
   "metadata": {},
   "outputs": [],
   "source": []
  },
  {
   "cell_type": "code",
   "execution_count": null,
   "metadata": {},
   "outputs": [],
   "source": []
  },
  {
   "cell_type": "code",
   "execution_count": null,
   "metadata": {},
   "outputs": [],
   "source": []
  },
  {
   "cell_type": "code",
   "execution_count": null,
   "metadata": {},
   "outputs": [],
   "source": []
  },
  {
   "cell_type": "markdown",
   "metadata": {},
   "source": [
    "# Lesson"
   ]
  },
  {
   "attachments": {
    "image.png": {
     "image/png": "[encoded data removed]"
    }
   },
   "cell_type": "markdown",
   "metadata": {},
   "source": [
    "## Learning about Linked Lists\n",
    "\n",
    "A linked list is a string of nodes. Each node contains both data and a reference to the next node in the linked list.\n",
    "\n",
    "The nodes in a __doubly linked list__ will contain references to both the next and the previous node.\n",
    "\n",
    "The advantage over a static array, Python list(), is the dynamic memory allocation. This is useful when you do not know the amount of data you want to store beforehand. The tradeoff is more space and slower lookup times.\n",
    "\n",
    "![image.png](attachment:image.png)\n",
    "\n",
    "## The Node\n",
    "\n",
    "The node is where the data is stored in a linked list. The node stores a _pointer_, which is a reference to the next node in the list.\n",
    "\n",
    "```\n",
    "class Node:\n",
    "\n",
    "    def __init__(self, data=None, next_node=None):\n",
    "        self.data = data\n",
    "        self.next_node = next_node\n",
    "        \n",
    "    def get_data(self):\n",
    "        return self.data\n",
    "        \n",
    "    def get_next(self):\n",
    "        return self.next_node\n",
    "        \n",
    "    def set_next(self, new_next):\n",
    "        self.next_node = new_next\n",
    "```\n",
    "\n",
    "### Methods\n",
    "\n",
    "* Insert: inserts a new node into the list \n",
    "\n",
    "* Size: returns the size of list\n",
    "\n",
    "* Search: searches list for a node containing the requested data and returns that node if found, otherwise raises an error.\n",
    "\n",
    "* Delete: searches list for a node containing the requested data and removes it from the list if found, otherwise raises an error.\n",
    "\n",
    "### The Head of the List\n",
    "\n",
    "The first piece of a linked list in the _head node_, or _head_, which is the top node of the list. When the list is first initialized it has no nodes. We set the head to None. _Note: Linked lists do not require a node to initialize._ The head argument will default to None if a node is not provided.\n",
    "\n",
    "```\n",
    "class LinkedList:\n",
    "    def __init__(self, head=None):\n",
    "        self.head = head\n",
    "```\n",
    "\n",
    "### Insert\n",
    "\n",
    "Insert method takes the data and initializes a new node with the given data and adds it to the list. You can add a node anywhere in a list but the easiest way is to make it the new head. Point the new node at the old head. This is like pushing the other nodes down the line.\n",
    "\n",
    "As for __time complexity__ this implementation of insert is constant _O(1)_. The insert method will always take the same amount of time. Insert only takes one data point, creates one node, and the new node does not have to interact with all the other nodes in the list. The new inserted node will only ever interact with the head.\n",
    "\n",
    "```\n",
    "def insert(self, data):\n",
    "    new_node = Node(data)\n",
    "    new_node.set_next(self.head)\n",
    "    self.head = new_node\n",
    "```\n",
    "\n",
    "### Size\n",
    "\n",
    "The size method is very simple. Counts all nodes in the linked list. The method begins at the head node and travels down the line of nodes until the end. The current node will be None. \n",
    "\n",
    "The __time complexity__ of the size method is O(n) because each time the method is called it will always visit every node in the list but only interact with them once. This means `n * 1` operations will occur.\n",
    "\n",
    "```\n",
    "def size(self):\n",
    "    current = self.head\n",
    "    count = 0\n",
    "    while current:\n",
    "        count += 1\n",
    "        current = current.get_next()\n",
    "    return count\n",
    "```\n",
    "\n",
    "### Search\n",
    "\n",
    "Search is similar to size. Instead of traversing the entire list of nodes it checks at each stop to see whether the current node has the requested data. If the Node does have the requested data the search method will return the node holding that data. If the search method travels the whole list of nodes and does not find the data a value error is raised with a message to user stating that the data is not in the list.\n",
    "\n",
    "The __time complexity__ of search is O(n) in the worst case. \n",
    "\n",
    "```\n",
    "def search(self, data):\n",
    "    \n",
    "    current = self.head\n",
    "    found = False\n",
    "\n",
    "    while current and found is False:\n",
    "        if current.get_data() == data:\n",
    "            found = True\n",
    "        else:\n",
    "            current = current.get_next()\n",
    "\n",
    "    if current is None:\n",
    "        raise ValueError(\"Data not in list\")\n",
    "    return current\n",
    "```\n",
    "\n",
    "\n",
    "### Delete\n",
    "\n",
    "Delete is similar to search. The delete method traverses the list similar to the search method. However, in addition to keeping tracking of the current node, the delete method also remembers the last node visited. When the delete method arrives at the node to delete, it removes the node from the chain by _leap frogging_ it. The method looks at the previous node and resets its pointer to the next node in line, skipping the _deleted_ node. Here, the _deleted node_ is removed from the linked list chain.\n",
    "\n",
    "The __time complexity__ for the delete method is also O(n) because in the worst case it will visit every node and interact with each node a fixed number of times.\n",
    "\n",
    "```\n",
    "def delete(self, data):\n",
    "    current = self.head\n",
    "    previous = None\n",
    "    found = False\n",
    "    \n",
    "    while current and found is False:\n",
    "        if current.get_data()==data:\n",
    "            found = True\n",
    "        else:\n",
    "            previous = current\n",
    "            current = current.get_next()\n",
    "\n",
    "    if current is None:\n",
    "        raise ValueError(\"Data not in list\")\n",
    "    \n",
    "    if previous is None:\n",
    "        self.head = current.get_next()\n",
    "    else:\n",
    "        previous.set_next(current.get_next())\n",
    "\n",
    "```\n",
    "\n"
   ]
  },
  {
   "cell_type": "markdown",
   "metadata": {},
   "source": [
    "_This text and code in this notebook is slightly modified for educational purposes from the following site:_\n",
    "\n",
    "https://www.codefellows.org/blog/implementing-a-singly-linked-list-in-python/\n",
    "\n",
    "https://github.com/johnshiver/algorithms/tree/master/linked_list\n",
    "https://github.com/johnshiver/algorithms/tree/master/linked_list/tests\n"
   ]
  },
  {
   "cell_type": "markdown",
   "metadata": {},
   "source": [
    "### Pros & Cons\n",
    "#### When compared to Arrays\n",
    "\n",
    "Pros:\n",
    "1. Dynamic size\n",
    "2. Easy of insertion/deletion\n",
    "\n",
    "Cons:\n",
    "1. Random access is not allowed. Access is sequential from the first node.\n",
    "    1. No binary search with the default implementation.\n",
    "2. Each element in the Linked List requires extra memory space for the pointer.\n",
    "3. Not cache friendly. \n",
    "    1. Array elements are in contiguous locations. This provides locality of reference which is absent for linked lists."
   ]
  },
  {
   "cell_type": "markdown",
   "metadata": {},
   "source": [
    "## Working Examples:\n",
    "\n",
    "Let's do some examples for it to make more sense."
   ]
  },
  {
   "cell_type": "code",
   "execution_count": 26,
   "metadata": {},
   "outputs": [],
   "source": [
    "class Node:\n",
    "    \"\"\"The basic part of the Linked List...the node.\n",
    "    Stores data and a pointer for the next node in \n",
    "    the linked list.\n",
    "    \n",
    "    Args:\n",
    "    \n",
    "    data: holds the data within the current Node.\n",
    "    \n",
    "    next_node: is the pointer that references the \n",
    "    next node in the linked list.\n",
    "    \n",
    "    \"\"\"\n",
    "    # Nodes hold data & a point (next_node)\n",
    "    def __init__(self, data=None, next_node=None):\n",
    "        self.data = data\n",
    "        self.next_node = next_node\n",
    "\n",
    "    # returns the data stored in the node\n",
    "    def get_data(self):\n",
    "        return self.data\n",
    "    \n",
    "    # returns the next node in the pointer\n",
    "    def get_next(self):\n",
    "        return self.next_node\n",
    "\n",
    "    # setting the next node (pointer)\n",
    "    def set_next(self, new_next):\n",
    "        self.next_node = new_next"
   ]
  },
  {
   "cell_type": "code",
   "execution_count": 27,
   "metadata": {},
   "outputs": [],
   "source": [
    "class LinkedList:\n",
    "    # The LinkedList can be initialized without a Node.\n",
    "    # When there is no node, head is set to None.\n",
    "    def __init__(self, head=None):\n",
    "        self.head = head\n",
    "        \n",
    "    def insert(self, data):\n",
    "        \"\"\"Initializes a Node and sets the pointer to \n",
    "        the current head. The head is then reassigned\n",
    "        to the new_node instance.\n",
    "        \n",
    "        Args:\n",
    "        \n",
    "        data: holds the data that will be passed to the Node instance.\n",
    "        \"\"\"\n",
    "        \n",
    "        new_node = Node(data)\n",
    "        new_node.set_next(self.head)\n",
    "        self.head = new_node\n",
    "        \n",
    "    def size(self):\n",
    "        \"\"\"Counts the number of nodes within the Linked List.\n",
    "        \n",
    "        Returns: int\n",
    "            Count of the nodes in the Linked List.\n",
    "        \"\"\"\n",
    "        current = self.head\n",
    "        count = 0\n",
    "        \n",
    "        # Loops until current is equal to None.\n",
    "        while current:\n",
    "            count += 1\n",
    "            current = current.get_next()\n",
    "            \n",
    "        return count\n",
    "    \n",
    "    def search(self, data):\n",
    "        \"\"\"Searches the Nodes within the LinkedList to find\n",
    "        a matching data value. When no match is found a \n",
    "        ValueError is raised.\n",
    "        \n",
    "        Args: \n",
    "        \n",
    "            data: the data value to be found.\n",
    "        \n",
    "        Returns: Node\n",
    "        \n",
    "            Current Node where data was found.\n",
    "        \"\"\"\n",
    "        \n",
    "        # Starts at the curren Node\n",
    "        current = self.head\n",
    "        \n",
    "        # Initializes found to False boolean.\n",
    "        found = False\n",
    "        \n",
    "        # Loop as long as current has a non-None value\n",
    "        # and while found is equal to False.\n",
    "        # Will break from loop when either: (1) current\n",
    "        # is equal to None or (2) found is equal to True.\n",
    "        # In both cases, current or found must evaluate to\n",
    "        # False to break the loop. \n",
    "        \n",
    "        while current and found is False:\n",
    "            if current.get_data() == data:\n",
    "                found = True\n",
    "            else:\n",
    "                current = current.get_next()\n",
    "        \n",
    "        # Reaches end of the LinkedList where the \n",
    "        # value of get_next is None.\n",
    "        \n",
    "        if current is None:\n",
    "            raise ValueError(\"Data not in list\")\n",
    "        \n",
    "        return current\n",
    "    \n",
    "    def delete(self, data):\n",
    "        current = self.head\n",
    "        previous = None\n",
    "        found = False\n",
    "\n",
    "        while current and found is False:\n",
    "            if current.get_data()==data:\n",
    "                found = True\n",
    "            else:\n",
    "                previous = current\n",
    "                current = current.get_next()\n",
    "\n",
    "        if current is None:\n",
    "            raise ValueError(\"Data not in list\")\n",
    "\n",
    "        if previous is None:\n",
    "            self.head = current.get_next()\n",
    "        else:\n",
    "            previous.set_next(current.get_next())\n",
    "\n",
    "    "
   ]
  },
  {
   "cell_type": "code",
   "execution_count": 28,
   "metadata": {},
   "outputs": [],
   "source": [
    "n1 = Node(data='LYNDON')\n",
    "n2 = 'WOLFGANG'\n",
    "n3 = 'MORTON'"
   ]
  },
  {
   "cell_type": "code",
   "execution_count": 29,
   "metadata": {},
   "outputs": [],
   "source": [
    "linked = LinkedList(n1)"
   ]
  },
  {
   "cell_type": "code",
   "execution_count": 30,
   "metadata": {},
   "outputs": [
    {
     "data": {
      "text/plain": [
       "'LYNDON'"
      ]
     },
     "execution_count": 30,
     "metadata": {},
     "output_type": "execute_result"
    }
   ],
   "source": [
    "linked.head.get_data()"
   ]
  },
  {
   "cell_type": "code",
   "execution_count": 31,
   "metadata": {},
   "outputs": [],
   "source": [
    "linked.insert(n2)"
   ]
  },
  {
   "cell_type": "code",
   "execution_count": 32,
   "metadata": {},
   "outputs": [
    {
     "data": {
      "text/plain": [
       "2"
      ]
     },
     "execution_count": 32,
     "metadata": {},
     "output_type": "execute_result"
    }
   ],
   "source": [
    "linked.size()"
   ]
  },
  {
   "cell_type": "code",
   "execution_count": 33,
   "metadata": {},
   "outputs": [],
   "source": [
    "linked.insert(n3)"
   ]
  },
  {
   "cell_type": "code",
   "execution_count": 34,
   "metadata": {},
   "outputs": [
    {
     "data": {
      "text/plain": [
       "'MORTON'"
      ]
     },
     "execution_count": 34,
     "metadata": {},
     "output_type": "execute_result"
    }
   ],
   "source": [
    "linked.head.get_data()"
   ]
  },
  {
   "cell_type": "code",
   "execution_count": 35,
   "metadata": {},
   "outputs": [
    {
     "data": {
      "text/plain": [
       "'WOLFGANG'"
      ]
     },
     "execution_count": 35,
     "metadata": {},
     "output_type": "execute_result"
    }
   ],
   "source": [
    "linked.search('WOLFGANG').get_data()"
   ]
  },
  {
   "cell_type": "code",
   "execution_count": null,
   "metadata": {},
   "outputs": [],
   "source": []
  }
 ],
 "metadata": {
  "kernelspec": {
   "display_name": "Python 3",
   "language": "python",
   "name": "python3"
  },
  "language_info": {
   "codemirror_mode": {
    "name": "ipython",
    "version": 3
   },
   "file_extension": ".py",
   "mimetype": "text/x-python",
   "name": "python",
   "nbconvert_exporter": "python",
   "pygments_lexer": "ipython3",
   "version": "3.7.3"
  }
 },
 "nbformat": 4,
 "nbformat_minor": 2
}
