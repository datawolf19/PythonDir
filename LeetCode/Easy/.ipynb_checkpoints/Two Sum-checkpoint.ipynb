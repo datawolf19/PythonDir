{
 "cells": [
  {
   "cell_type": "code",
   "execution_count": 15,
   "metadata": {},
   "outputs": [],
   "source": [
    "class Solution:\n",
    "    def two_sum(self, nums: list, target: int) -> list:\n",
    "        for i in range(len(nums)):\n",
    "            for j in range(i+1, len(nums)):\n",
    "                if nums[i] + nums[j] == target:\n",
    "                    return [i,j]\n",
    "                "
   ]
  },
  {
   "cell_type": "code",
   "execution_count": 16,
   "metadata": {},
   "outputs": [
    {
     "data": {
      "text/plain": [
       "[0, 1]"
      ]
     },
     "execution_count": 16,
     "metadata": {},
     "output_type": "execute_result"
    }
   ],
   "source": [
    "nums=[2, 7, 11, 15]\n",
    "target = 9\n",
    "Solution().two_sum(nums, target)"
   ]
  },
  {
   "cell_type": "markdown",
   "metadata": {},
   "source": [
    "# Brute Force method\n",
    "\n",
    "I did this method because it was easy. You loop through each element x in the list until it equals thr target.\n",
    "\n",
    "__TIME COMPLEXITY__\n",
    "\n",
    "Not great. O(n^2) because running a loop through an array takes O(n) time. Since there are two loops for thr same array (list) it takes O(n) * O(n) time to loop through each element. \n",
    "\n",
    "__SPACE COMPLEXITY__\n",
    "\n",
    "O(1) -> This means that the memory is not dependent on the size of the input (N)."
   ]
  },
  {
   "cell_type": "markdown",
   "metadata": {},
   "source": [
    "# Two-pass Hash Table (dictionary)\n",
    "\n",
    "This will improve the run time complexity. Here, we are looking if a complement exists in the array. If a complement exists, we need to look up its index. Here we will use a dictionary to map each value with its respective index. \n",
    "\n",
    "__Time Complexity__\n",
    "Lookup time is reduced from O(n) to O(1). You trade space for speed. *Hash tables are built for this purpose, fast look ups at near constant time.* \n",
    "\n",
    "This implementation uses two iterations. In iteration one, we add each element's value and index to a dictionary. In the second iteration, we check if each element's complement *(target - nums[i])* exists in the table. Make sure you do not complement *nums[i]* itself."
   ]
  },
  {
   "cell_type": "code",
   "execution_count": 27,
   "metadata": {},
   "outputs": [
    {
     "data": {
      "text/plain": [
       "dict_values([10, 20, 30])"
      ]
     },
     "execution_count": 27,
     "metadata": {},
     "output_type": "execute_result"
    }
   ],
   "source": [
    "{1:10, 2:20, 3:30}.values()"
   ]
  },
  {
   "cell_type": "code",
   "execution_count": 311,
   "metadata": {},
   "outputs": [
    {
     "name": "stdout",
     "output_type": "stream",
     "text": [
      "{3: [0, 1]}\n"
     ]
    }
   ],
   "source": [
    "def two_pass_hash_two_sum(nums, target):\n",
    "    from collections import defaultdict\n",
    "    \n",
    "    hash_table = defaultdict(list)\n",
    "    # Creates a dictionary and assigns the values of the array as keys and the index (i) \n",
    "    # as the value.\n",
    "\n",
    "    for i in range(len(nums)):\n",
    "        hash_table[nums[i]].append(i)\n",
    "\n",
    "        \n",
    "    print(dict(hash_table))\n",
    "\n",
    "\n",
    "            \n",
    "    \n",
    "    \n",
    "        \n",
    "    \n",
    "two_pass_hash_two_sum([3,3], 6)    \n",
    "\n",
    "\n",
    "\n",
    " "
   ]
  },
  {
   "cell_type": "code",
   "execution_count": 301,
   "metadata": {},
   "outputs": [
    {
     "name": "stdout",
     "output_type": "stream",
     "text": [
      "{3: 1}\n"
     ]
    }
   ],
   "source": []
  },
  {
   "cell_type": "code",
   "execution_count": 179,
   "metadata": {},
   "outputs": [
    {
     "data": {
      "text/plain": [
       "{0: 3, 1: 3}"
      ]
     },
     "execution_count": 179,
     "metadata": {},
     "output_type": "execute_result"
    }
   ],
   "source": [
    "nums = [3,3]\n",
    "{i:x for i, x in list(enumerate(nums))}"
   ]
  },
  {
   "cell_type": "code",
   "execution_count": 168,
   "metadata": {},
   "outputs": [
    {
     "data": {
      "text/plain": [
       "[(0, 3), (1, 3)]"
      ]
     },
     "execution_count": 168,
     "metadata": {},
     "output_type": "execute_result"
    }
   ],
   "source": [
    "list(enumerate(nums))"
   ]
  },
  {
   "cell_type": "code",
   "execution_count": null,
   "metadata": {},
   "outputs": [],
   "source": []
  }
 ],
 "metadata": {
  "kernelspec": {
   "display_name": "Python 3",
   "language": "python",
   "name": "python3"
  },
  "language_info": {
   "codemirror_mode": {
    "name": "ipython",
    "version": 3
   },
   "file_extension": ".py",
   "mimetype": "text/x-python",
   "name": "python",
   "nbconvert_exporter": "python",
   "pygments_lexer": "ipython3",
   "version": "3.7.3"
  }
 },
 "nbformat": 4,
 "nbformat_minor": 2
}
