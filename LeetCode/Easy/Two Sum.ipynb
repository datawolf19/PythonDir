{
 "cells": [
  {
   "cell_type": "code",
   "execution_count": 59,
   "metadata": {},
   "outputs": [
    {
     "name": "stdout",
     "output_type": "stream",
     "text": [
      "[0, 1]\n",
      "[0, 3]\n",
      "[0, 1]\n"
     ]
    }
   ],
   "source": [
    "class Solution:\n",
    "    def two_sum(self, nums: list, target: int) -> list:\n",
    "        for i in range(len(nums)):\n",
    "            for j in range(i+1, len(nums)):\n",
    "                if nums[i] + nums[j] == target:\n",
    "                    return [i,j]\n",
    "                \n",
    "if __name__ == \"__main__\":\n",
    "    print(Solution().two_sum([3,3], 6))\n",
    "    print(Solution().two_sum([2,1,9,4,3], 6))\n",
    "    print(Solution().two_sum([2, 7, 11, 15], 9))"
   ]
  },
  {
   "cell_type": "markdown",
   "metadata": {},
   "source": [
    "# Brute Force method\n",
    "\n",
    "I did this method because it was easy. You loop through each element x in the list until it equals thr target.\n",
    "\n",
    "__TIME COMPLEXITY__\n",
    "\n",
    "Not great. O(n^2) because running a loop through an array takes O(n) time. Since there are two loops for thr same array (list) it takes O(n) * O(n) time to loop through each element. \n",
    "\n",
    "__SPACE COMPLEXITY__\n",
    "\n",
    "O(1) -> This means that the memory is not dependent on the size of the input (N)."
   ]
  },
  {
   "cell_type": "markdown",
   "metadata": {},
   "source": [
    "# Two-pass Hash Table (dictionary)\n",
    "\n",
    "This will improve the run time complexity. Here, we are looking if a complement exists in the array. If a complement exists, we need to look up its index. Here we will use a dictionary to map each value with its respective index. \n",
    "\n",
    "__Time Complexity__\n",
    "Lookup time is reduced from O(n) to O(1). You trade space for speed. *Hash tables are built for this purpose, fast look ups at near constant time.* \n",
    "\n",
    "This implementation uses two iterations. In iteration one, we add each element's value and index to a dictionary. In the second iteration, we check if each element's complement *(target - nums[i])* exists in the table. Make sure you do not complement *nums[i]* itself."
   ]
  },
  {
   "cell_type": "code",
   "execution_count": 27,
   "metadata": {},
   "outputs": [
    {
     "data": {
      "text/plain": [
       "dict_values([10, 20, 30])"
      ]
     },
     "execution_count": 27,
     "metadata": {},
     "output_type": "execute_result"
    }
   ],
   "source": [
    "{1:10, 2:20, 3:30}.values()"
   ]
  },
  {
   "cell_type": "code",
   "execution_count": 53,
   "metadata": {},
   "outputs": [
    {
     "name": "stdout",
     "output_type": "stream",
     "text": [
      "[1, 0]\n",
      "[0, 3]\n",
      "[0, 1]\n"
     ]
    }
   ],
   "source": [
    "class Solution:\n",
    "    def two_pass_hash_two_sum(self, nums, target):\n",
    "        \n",
    "        # Hash maps are essentially dictionaries in Python.\n",
    "        # The issue is that Python dictionaries cannot store\n",
    "        # Duplicate keys with different values. i.e., {3:1, 3:2}\n",
    "        # would never work in Python. Instead you would just get\n",
    "        # {3:2}. \n",
    "        #\n",
    "        # The value portion of the key:value pair must be a list.\n",
    "        # This way you can use the same key and link it to \n",
    "        # different values within an array.\n",
    "        #\n",
    "        # hmap is our dictionary\n",
    "        hmap = {}\n",
    "\n",
    "        # First loop is at O(n) time complexity because each element\n",
    "        # in the array must be visited.\n",
    "        \n",
    "        for i in range(len(nums)):\n",
    "            # Initialize list with key.\n",
    "            if i==0:\n",
    "                hmap[nums[i]] = [i]\n",
    "            # If key is found then append to the existing list.\n",
    "            elif nums[i] in hmap:\n",
    "                hmap[nums[i]].append(i)\n",
    "            # If key not found then value is a list of the index.\n",
    "            else:\n",
    "                hmap[nums[i]] = [i]\n",
    "\n",
    "        # Here we run through the hmap. This takes O(1) time complexity.\n",
    "        for i in range(len(nums)):\n",
    "            # Our hashmap contains the complement as the key. \n",
    "            # When the complement is found it returns the index\n",
    "            # where that complement is located in the array.\n",
    "            \n",
    "            complement = target - nums[i]\n",
    "\n",
    "            # Checks two things: (1) Is the complement value \n",
    "            # in the hmap keys and (2) that the hmap value, \n",
    "            # here the index, is not equal to the index of \n",
    "            # the array per the rules.\n",
    "            \n",
    "            if complement in hmap and hmap[complement][0]!=i:\n",
    "                # Returns the index of the value of the array\n",
    "                # that returns the complement's index to arrive\n",
    "                # at the target.\n",
    "                return [i, hmap[complement][0]]\n",
    "\n",
    "# This code is used to test the above function.\n",
    "if __name__ == \"__main__\":\n",
    "    print(Solution().two_pass_hash_two_sum([3,3], 6))\n",
    "    print(Solution().two_pass_hash_two_sum([2,1,9,4,3], 6))\n",
    "    print(Solution().two_pass_hash_two_sum([2, 7, 11, 15], 9))"
   ]
  },
  {
   "cell_type": "markdown",
   "metadata": {},
   "source": [
    "# Single Pass Hash\n",
    "\n",
    "This same question can be solved on a single pass. While looping through the list we insert elements into the table. We review the hash map to see if the complement already exists. If so, we arrive at our solution."
   ]
  },
  {
   "cell_type": "code",
   "execution_count": 58,
   "metadata": {},
   "outputs": [
    {
     "name": "stdout",
     "output_type": "stream",
     "text": [
      "[1, 0]\n",
      "[3, 0]\n",
      "[1, 0]\n"
     ]
    }
   ],
   "source": [
    "class Solution:\n",
    "    def one_pass_hash_two_sum(self, nums, target):\n",
    "        \n",
    "        # Hash maps are essentially dictionaries in Python.\n",
    "        # The issue is that Python dictionaries cannot store\n",
    "        # Duplicate keys with different values. i.e., {3:1, 3:2}\n",
    "        # would never work in Python. Instead you would just get\n",
    "        # {3:2}. \n",
    "        #\n",
    "        # The value portion of the key:value pair must be a list.\n",
    "        # This way you can use the same key and link it to \n",
    "        # different values within an array.\n",
    "        #\n",
    "        # hmap is our dictionary\n",
    "        hmap = {}\n",
    "\n",
    "        # First loop is at O(n) time complexity because each element\n",
    "        # in the array must be visited.\n",
    "        \n",
    "        for i in range(len(nums)):\n",
    "            # Initialize list with key.\n",
    "            if i==0:\n",
    "                hmap[nums[i]] = [i]\n",
    "            # If key is found then append to the existing list.\n",
    "            elif nums[i] in hmap:\n",
    "                hmap[nums[i]].append(i)\n",
    "            # If key not found then value is a list of the index.\n",
    "            else:\n",
    "                hmap[nums[i]] = [i]\n",
    "\n",
    "            complement = target - nums[i]\n",
    "\n",
    "            if complement in hmap and hmap[complement][0]!=i:\n",
    "                return [i, hmap[complement][0]]\n",
    "\n",
    "# This code is used to test the above function.\n",
    "if __name__ == \"__main__\":\n",
    "    print(Solution().one_pass_hash_two_sum([3,3], 6))\n",
    "    print(Solution().one_pass_hash_two_sum([2,1,9,4,3], 6))\n",
    "    print(Solution().one_pass_hash_two_sum([2, 7, 11, 15], 9))"
   ]
  },
  {
   "cell_type": "code",
   "execution_count": null,
   "metadata": {},
   "outputs": [],
   "source": []
  }
 ],
 "metadata": {
  "kernelspec": {
   "display_name": "Python 3",
   "language": "python",
   "name": "python3"
  },
  "language_info": {
   "codemirror_mode": {
    "name": "ipython",
    "version": 3
   },
   "file_extension": ".py",
   "mimetype": "text/x-python",
   "name": "python",
   "nbconvert_exporter": "python",
   "pygments_lexer": "ipython3",
   "version": "3.7.3"
  }
 },
 "nbformat": 4,
 "nbformat_minor": 2
}
