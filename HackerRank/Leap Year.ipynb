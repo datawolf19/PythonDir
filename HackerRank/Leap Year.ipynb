{
 "cells": [
  {
   "cell_type": "markdown",
   "metadata": {},
   "source": [
    "https://www.hackerrank.com/challenges/write-a-function/problem?h_r=next-challenge&h_v=zen&h_r=next-challenge&h_v=zen&h_r=next-challenge&h_v=zen&h_r=next-challenge&h_v=zen&h_r=next-challenge&h_v=zen"
   ]
  },
  {
   "cell_type": "code",
   "execution_count": 10,
   "metadata": {},
   "outputs": [
    {
     "name": "stdout",
     "output_type": "stream",
     "text": [
      "Is 2000 a leap year? True\n",
      "Is 2400 a leap year? True\n",
      "Is 1800 a leap year? False\n",
      "Is 1900 a leap year? False\n",
      "Is 2100 a leap year? False\n",
      "Is 2200 a leap year? False\n",
      "Is 2300 a leap year? False\n"
     ]
    }
   ],
   "source": [
    "years = [2000, 2400, 1800, 1900, 2100, 2200, 2300]\n",
    "\n",
    "for year in years:\n",
    "    \n",
    "    leap_year = True if year%4==0 else False\n",
    "    \n",
    "    if leap_year:\n",
    "        \n",
    "        leap_year = False if (year%100==0 and year%400!=0) else True\n",
    "\n",
    "    print(f\"Is {year} a leap year? {leap_year}\")\n",
    "\n"
   ]
  },
  {
   "cell_type": "code",
   "execution_count": null,
   "metadata": {},
   "outputs": [],
   "source": []
  }
 ],
 "metadata": {
  "kernelspec": {
   "display_name": "Python 3",
   "language": "python",
   "name": "python3"
  },
  "language_info": {
   "codemirror_mode": {
    "name": "ipython",
    "version": 3
   },
   "file_extension": ".py",
   "mimetype": "text/x-python",
   "name": "python",
   "nbconvert_exporter": "python",
   "pygments_lexer": "ipython3",
   "version": "3.7.3"
  }
 },
 "nbformat": 4,
 "nbformat_minor": 2
}
