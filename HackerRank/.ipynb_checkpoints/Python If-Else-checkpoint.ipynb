{
 "cells": [
  {
   "cell_type": "markdown",
   "metadata": {},
   "source": [
    "https://www.hackerrank.com/challenges/py-if-else/problem?h_r=next-challenge&h_v=zen"
   ]
  },
  {
   "cell_type": "code",
   "execution_count": 12,
   "metadata": {},
   "outputs": [
    {
     "name": "stdout",
     "output_type": "stream",
     "text": [
      "4\n",
      "Not Wierd\n"
     ]
    }
   ],
   "source": [
    "N = int(input())\n",
    "\n",
    "even = True if N%2==0 else False\n",
    "wierd = 'Wierd' if even and (N >6 and N <=20) else 0\n",
    "not_wierd = 'Not Wierd' if even and ((N>=2 and N <=5) or (N > 20)) else 0\n",
    "\n",
    "if not even:\n",
    "    print('Wierd')\n",
    "elif wierd:\n",
    "    print(wierd)\n",
    "elif not_wierd:\n",
    "    print(not_wierd)\n",
    "    "
   ]
  },
  {
   "cell_type": "code",
   "execution_count": null,
   "metadata": {},
   "outputs": [],
   "source": []
  },
  {
   "cell_type": "code",
   "execution_count": null,
   "metadata": {},
   "outputs": [],
   "source": []
  }
 ],
 "metadata": {
  "kernelspec": {
   "display_name": "Python 3",
   "language": "python",
   "name": "python3"
  },
  "language_info": {
   "codemirror_mode": {
    "name": "ipython",
    "version": 3
   },
   "file_extension": ".py",
   "mimetype": "text/x-python",
   "name": "python",
   "nbconvert_exporter": "python",
   "pygments_lexer": "ipython3",
   "version": "3.7.3"
  }
 },
 "nbformat": 4,
 "nbformat_minor": 2
}
